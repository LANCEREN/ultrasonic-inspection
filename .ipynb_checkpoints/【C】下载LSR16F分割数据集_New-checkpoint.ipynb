{
 "cells": [
  {
   "cell_type": "markdown",
   "id": "c669bd26-b5b8-40ad-b087-ef8324985c6f",
   "metadata": {},
   "source": [
    "# 下载西瓜语义分割数据集\n",
    "\n",
    "同济子豪兄 2023-2-13 6-11 6-25\n",
    "\n",
    "## 数据集使用说明\n",
    "\n",
    "https://github.com/TommyZihao/Train_Custom_Dataset/tree/main/%E8%AF%AD%E4%B9%89%E5%88%86%E5%89%B2/%E8%AF%AD%E4%B9%89%E5%88%86%E5%89%B2%E6%95%B0%E6%8D%AE%E9%9B%86"
   ]
  },
  {
   "cell_type": "markdown",
   "id": "c1229f75-1171-4719-b0ba-fb7a6f66708e",
   "metadata": {},
   "source": [
    "## 进入`mmsegmentation`主目录"
   ]
  },
  {
   "cell_type": "code",
   "execution_count": 14,
   "id": "3bbc07c1-0207-4f2a-a99e-e1452dee5d01",
   "metadata": {},
   "outputs": [
    {
     "ename": "FileNotFoundError",
     "evalue": "[Errno 2] No such file or directory: 'mmsegmentation'",
     "output_type": "error",
     "traceback": [
      "\u001b[0;31m---------------------------------------------------------------------------\u001b[0m",
      "\u001b[0;31mFileNotFoundError\u001b[0m                         Traceback (most recent call last)",
      "\u001b[0;32m/tmp/ipykernel_19020/721190788.py\u001b[0m in \u001b[0;36m<module>\u001b[0;34m\u001b[0m\n\u001b[1;32m      1\u001b[0m \u001b[0;32mimport\u001b[0m \u001b[0mos\u001b[0m\u001b[0;34m\u001b[0m\u001b[0;34m\u001b[0m\u001b[0m\n\u001b[0;32m----> 2\u001b[0;31m \u001b[0mos\u001b[0m\u001b[0;34m.\u001b[0m\u001b[0mchdir\u001b[0m\u001b[0;34m(\u001b[0m\u001b[0;34m'mmsegmentation'\u001b[0m\u001b[0;34m)\u001b[0m\u001b[0;34m\u001b[0m\u001b[0;34m\u001b[0m\u001b[0m\n\u001b[0m",
      "\u001b[0;31mFileNotFoundError\u001b[0m: [Errno 2] No such file or directory: 'mmsegmentation'"
     ]
    }
   ],
   "source": [
    "import os\n",
    "os.chdir('mmsegmentation')"
   ]
  },
  {
   "cell_type": "code",
   "execution_count": 15,
   "id": "d62a9d6c-a6b6-4314-9505-c7f2d3fc9a55",
   "metadata": {},
   "outputs": [
    {
     "data": {
      "text/plain": [
       "'/home/featurize/work/MMSegmentation_Tutorials-20230816/mmsegmentation'"
      ]
     },
     "execution_count": 15,
     "metadata": {},
     "output_type": "execute_result"
    }
   ],
   "source": [
    "os.getcwd()"
   ]
  },
  {
   "cell_type": "markdown",
   "id": "d74686a7-e394-4316-8f96-af07554966aa",
   "metadata": {},
   "source": [
    "## 下载整理好之后的数据集"
   ]
  },
  {
   "cell_type": "markdown",
   "id": "091f4492-a74e-412d-b404-1001a5fc7841",
   "metadata": {},
   "source": [
    "在`mmsegmentation`主目录中，出现文件夹`Watermelon87_Semantic_Seg_Mask`"
   ]
  },
  {
   "cell_type": "markdown",
   "id": "18c647c9-76e2-4eb6-b066-dc9be3000491",
   "metadata": {},
   "source": [
    "## 下载用于测试的图片和视频素材"
   ]
  },
  {
   "cell_type": "markdown",
   "id": "be6d3b1c-f4f7-46ac-9945-02635594f7d8",
   "metadata": {
    "tags": []
   },
   "source": [
    "## 删除系统自动生成的多余文件"
   ]
  },
  {
   "cell_type": "markdown",
   "id": "356428f7-db87-4fc9-9873-e1cf1b5088db",
   "metadata": {},
   "source": [
    "### 查看待删除的多余文件"
   ]
  },
  {
   "cell_type": "code",
   "execution_count": 28,
   "id": "e3d19ea4-f543-4bdd-acc4-994555857928",
   "metadata": {},
   "outputs": [],
   "source": [
    "!find . -iname '__MACOSX'"
   ]
  },
  {
   "cell_type": "code",
   "execution_count": 29,
   "id": "e11b9512-584e-460a-a9aa-4f39a2c4e0ba",
   "metadata": {},
   "outputs": [],
   "source": [
    "!find . -iname '.DS_Store'"
   ]
  },
  {
   "cell_type": "code",
   "execution_count": 30,
   "id": "7b85e491-0497-49ff-84b6-1991b096c42d",
   "metadata": {},
   "outputs": [
    {
     "name": "stdout",
     "output_type": "stream",
     "text": [
      "./configs/_base_/datasets/.ipynb_checkpoints\n",
      "./mmseg/datasets/.ipynb_checkpoints\n",
      "./mmseg/.ipynb_checkpoints\n",
      "./tools/.ipynb_checkpoints\n",
      "./Zihao-Configs/.ipynb_checkpoints\n",
      "./LSR16F/Img_dir/train/.ipynb_checkpoints\n",
      "./LSR16F-Configs/.ipynb_checkpoints\n"
     ]
    }
   ],
   "source": [
    "!find . -iname '.ipynb_checkpoints'"
   ]
  },
  {
   "cell_type": "markdown",
   "id": "8a9de3ce-9237-4db7-a667-2847663a3161",
   "metadata": {},
   "source": [
    "### 删除多余文件"
   ]
  },
  {
   "cell_type": "code",
   "execution_count": 31,
   "id": "5240771b-5535-4150-90be-c002bd7b8baa",
   "metadata": {},
   "outputs": [],
   "source": [
    "!for i in `find . -iname '__MACOSX'`; do rm -rf $i;done"
   ]
  },
  {
   "cell_type": "code",
   "execution_count": 32,
   "id": "699b2af5-63a1-41fc-adb3-488e3f4bf01e",
   "metadata": {},
   "outputs": [],
   "source": [
    "!for i in `find . -iname '.DS_Store'`; do rm -rf $i;done"
   ]
  },
  {
   "cell_type": "code",
   "execution_count": 33,
   "id": "7e530f61-072a-4d16-a4bf-c8ab99cdeeb1",
   "metadata": {},
   "outputs": [],
   "source": [
    "!for i in `find . -iname '.ipynb_checkpoints'`; do rm -rf $i;done"
   ]
  },
  {
   "cell_type": "markdown",
   "id": "f5f67d64-acb3-48fb-ad42-9a30c8aab536",
   "metadata": {},
   "source": [
    "### 验证多余文件已删除"
   ]
  },
  {
   "cell_type": "code",
   "execution_count": 34,
   "id": "2f9228d1-8426-4b48-8b6a-84096b26b095",
   "metadata": {},
   "outputs": [],
   "source": [
    "!find . -iname '__MACOSX'"
   ]
  },
  {
   "cell_type": "code",
   "execution_count": 35,
   "id": "ac3dbe7d-c347-4d67-8074-da4915507526",
   "metadata": {},
   "outputs": [],
   "source": [
    "!find . -iname '.DS_Store'"
   ]
  },
  {
   "cell_type": "code",
   "execution_count": 36,
   "id": "500ec0a3-6399-4d18-b53c-9ea4248635da",
   "metadata": {},
   "outputs": [],
   "source": [
    "!find . -iname '.ipynb_checkpoints'"
   ]
  },
  {
   "cell_type": "markdown",
   "id": "d77ec0f8-53ee-46f3-9a4f-b04ed02905f3",
   "metadata": {},
   "source": [
    "## 查看文件夹目录结构"
   ]
  },
  {
   "cell_type": "code",
   "execution_count": 12,
   "id": "89f12a9e-9858-46b5-9f1b-62447a7c5118",
   "metadata": {},
   "outputs": [
    {
     "name": "stdout",
     "output_type": "stream",
     "text": [
      "Looking in indexes: https://pypi.tuna.tsinghua.edu.cn/simple\n",
      "Collecting seedir\n",
      "  Downloading https://pypi.tuna.tsinghua.edu.cn/packages/08/19/c35bdf6573f4eafa48188b4c9b4f55548aea8f30303311b1179912374fa1/seedir-0.4.2-py3-none-any.whl (111 kB)\n",
      "\u001b[K     |████████████████████████████████| 111 kB 46.6 MB/s eta 0:00:01\n",
      "\u001b[?25hCollecting emoji\n",
      "  Downloading https://pypi.tuna.tsinghua.edu.cn/packages/03/40/91d0c9fe5a0b494c0fdbcacda4d203aea39f8293e69c70129389308ca928/emoji-2.9.0-py2.py3-none-any.whl (397 kB)\n",
      "\u001b[K     |████████████████████████████████| 397 kB 56.7 MB/s eta 0:00:01\n",
      "\u001b[?25hCollecting natsort\n",
      "  Downloading https://pypi.tuna.tsinghua.edu.cn/packages/ef/82/7a9d0550484a62c6da82858ee9419f3dd1ccc9aa1c26a1e43da3ecd20b0d/natsort-8.4.0-py3-none-any.whl (38 kB)\n",
      "Installing collected packages: natsort, seedir, emoji\n",
      "Successfully installed emoji-2.9.0 natsort-8.4.0 seedir-0.4.2\n"
     ]
    }
   ],
   "source": [
    "!pip install seedir emoji -i https://pypi.tuna.tsinghua.edu.cn/simple"
   ]
  },
  {
   "cell_type": "code",
   "execution_count": 13,
   "id": "928c76db-9eb7-4fd8-a7bb-340ba2c4db4d",
   "metadata": {},
   "outputs": [
    {
     "name": "stdout",
     "output_type": "stream",
     "text": [
      "📁 LSR16F/\n",
      "├─📁 Img_dir/\n",
      "│ ├─📁 train/\n",
      "│ └─📁 val/\n",
      "└─📁 Mask_dir/\n",
      "  ├─📁 train/\n",
      "  └─📁 val/\n"
     ]
    }
   ],
   "source": [
    "import seedir as sd\n",
    "sd.seedir('LSR16F', style='emoji', depthlimit=2)"
   ]
  },
  {
   "cell_type": "code",
   "execution_count": null,
   "id": "5448455e-4e0c-4e9c-80be-46ae4b1ae34a",
   "metadata": {},
   "outputs": [],
   "source": []
  }
 ],
 "metadata": {
  "kernelspec": {
   "display_name": "Python 3 (ipykernel)",
   "language": "python",
   "name": "python3"
  },
  "language_info": {
   "codemirror_mode": {
    "name": "ipython",
    "version": 3
   },
   "file_extension": ".py",
   "mimetype": "text/x-python",
   "name": "python",
   "nbconvert_exporter": "python",
   "pygments_lexer": "ipython3",
   "version": "3.7.10"
  }
 },
 "nbformat": 4,
 "nbformat_minor": 5
}
